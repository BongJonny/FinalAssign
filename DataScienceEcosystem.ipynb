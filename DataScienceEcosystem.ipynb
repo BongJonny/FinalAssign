{
 "cells": [
  {
   "cell_type": "markdown",
   "id": "9ee674b1-d46c-481d-a920-28fb42044837",
   "metadata": {},
   "source": [
    "# Data Science Tools and Ecosystem"
   ]
  },
  {
   "cell_type": "markdown",
   "id": "23f96a9b-57c4-4c39-9e3c-6809b72aa216",
   "metadata": {
    "tags": []
   },
   "source": [
    "In this notbook, Data Science Tools and Ecosystems are summerized."
   ]
  },
  {
   "cell_type": "markdown",
   "id": "aad2341a-8f04-423a-8331-4e94e728d7d4",
   "metadata": {},
   "source": [
    "### Some of the popular languages that Data Scientists use are: \n",
    "1. Python\n",
    "2. R\n",
    "3. SQL\n",
    "4. Java\n",
    "5. Scala"
   ]
  },
  {
   "cell_type": "markdown",
   "id": "5045c962-d8d1-400d-a410-289a0a02dd2d",
   "metadata": {},
   "source": [
    "### Some of the commonly used libraries used by Data Scientists include:\n",
    "\n",
    "1. NumPy\n",
    "2. Pandas\n",
    "3. TensorFlow\n",
    "4. MatPlotLib\n",
    "5. Plotly"
   ]
  },
  {
   "cell_type": "markdown",
   "id": "3cc3e781-4f01-41f1-a935-49e779c8d0ae",
   "metadata": {},
   "source": [
    "### Single column table of open source IDEs\n",
    "\n",
    "| Data Science Tools |\n",
    "|--------------------|\n",
    "| Apache Spark |\n",
    "| Jupyter |\n",
    "| Apache Zeppelin |\n",
    "| R Studio |\n",
    "| Spyder |"
   ]
  },
  {
   "cell_type": "markdown",
   "id": "3fa66fe4-b5c9-4d96-84d9-b737af2ce934",
   "metadata": {},
   "source": [
    "### Below are a few examples of evaluating arithmetic expressions in Python"
   ]
  },
  {
   "cell_type": "code",
   "execution_count": 2,
   "id": "ea38544c-1446-4670-8485-b8da66f80c02",
   "metadata": {
    "tags": []
   },
   "outputs": [
    {
     "data": {
      "text/plain": [
       "17"
      ]
     },
     "execution_count": 2,
     "metadata": {},
     "output_type": "execute_result"
    }
   ],
   "source": [
    "# This is a simple arithmetic expression to multiply (exercise instructions say \"mutiply\") then add integers\n",
    "\n",
    "(3*4)+5"
   ]
  },
  {
   "cell_type": "code",
   "execution_count": 3,
   "id": "1927ebd5-e123-46fb-898c-c1a8048d5825",
   "metadata": {
    "tags": []
   },
   "outputs": [
    {
     "data": {
      "text/plain": [
       "3.3333333333333335"
      ]
     },
     "execution_count": 3,
     "metadata": {},
     "output_type": "execute_result"
    }
   ],
   "source": [
    "# This will convert 200 minutes to hours by dividing (exercise instructions say \"diving\") by 60 \n",
    "\n",
    "200/60"
   ]
  },
  {
   "cell_type": "markdown",
   "id": "5e08e7fb-239e-44fa-b6d4-9cec84596b75",
   "metadata": {},
   "source": [
    "### Key objectives from this assignment\n",
    "\n",
    "**Objectives:**\n",
    "* List popular languages for Data Science\n",
    "* List popular libraries used for Data Science\n",
    "* Create a column listing open source Integrated Development Environments \n",
    "* Display basic arithmetic using code cells"
   ]
  },
  {
   "cell_type": "markdown",
   "id": "af2117cf-f2b3-485f-9285-661ab5bde587",
   "metadata": {
    "tags": []
   },
   "source": [
    "## Author \n",
    "\n",
    "Jonathan Henningson"
   ]
  },
  {
   "cell_type": "code",
   "execution_count": null,
   "id": "837b55b4-d2e4-47ef-8fea-758aaad4156e",
   "metadata": {},
   "outputs": [],
   "source": []
  }
 ],
 "metadata": {
  "kernelspec": {
   "display_name": "Python 3 (ipykernel)",
   "language": "python",
   "name": "python3"
  },
  "language_info": {
   "codemirror_mode": {
    "name": "ipython",
    "version": 3
   },
   "file_extension": ".py",
   "mimetype": "text/x-python",
   "name": "python",
   "nbconvert_exporter": "python",
   "pygments_lexer": "ipython3",
   "version": "3.11.5"
  }
 },
 "nbformat": 4,
 "nbformat_minor": 5
}
